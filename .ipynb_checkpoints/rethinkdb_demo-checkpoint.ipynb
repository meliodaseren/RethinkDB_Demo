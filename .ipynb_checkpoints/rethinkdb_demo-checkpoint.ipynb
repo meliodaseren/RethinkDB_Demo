{
 "cells": [
  {
   "cell_type": "code",
   "execution_count": 2,
   "metadata": {},
   "outputs": [
    {
     "name": "stdout",
     "output_type": "stream",
     "text": [
      "Collecting rethinkdb\n",
      "  Downloading rethinkdb-2.3.0.post6.tar.gz (118kB)\n",
      "\u001b[K    100% |████████████████████████████████| 122kB 525kB/s ta 0:00:01\n",
      "\u001b[?25hInstalling collected packages: rethinkdb\n",
      "  Running setup.py install for rethinkdb ... \u001b[?25ldone\n",
      "\u001b[?25hSuccessfully installed rethinkdb-2.3.0.post6\n"
     ]
    }
   ],
   "source": [
    "!pip install rethinkdb"
   ]
  },
  {
   "cell_type": "code",
   "execution_count": 3,
   "metadata": {
    "scrolled": true
   },
   "outputs": [],
   "source": [
    "import rethinkdb as r"
   ]
  },
  {
   "cell_type": "code",
   "execution_count": null,
   "metadata": {
    "collapsed": true
   },
   "outputs": [],
   "source": []
  }
 ],
 "metadata": {
  "kernelspec": {
   "display_name": "Python 3",
   "language": "python",
   "name": "python3"
  },
  "language_info": {
   "codemirror_mode": {
    "name": "ipython",
    "version": 3
   },
   "file_extension": ".py",
   "mimetype": "text/x-python",
   "name": "python",
   "nbconvert_exporter": "python",
   "pygments_lexer": "ipython3",
   "version": "3.6.1"
  }
 },
 "nbformat": 4,
 "nbformat_minor": 2
}
