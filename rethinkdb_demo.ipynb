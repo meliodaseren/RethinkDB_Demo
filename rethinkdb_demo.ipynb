{
 "cells": [
  {
   "cell_type": "code",
   "execution_count": null,
   "metadata": {},
   "outputs": [],
   "source": [
    "!pip install rethinkdb"
   ]
  },
  {
   "cell_type": "code",
   "execution_count": 1,
   "metadata": {
    "collapsed": true,
    "scrolled": true
   },
   "outputs": [],
   "source": [
    "import rethinkdb as r"
   ]
  },
  {
   "cell_type": "markdown",
   "metadata": {},
   "source": [
    "## Open a connection"
   ]
  },
  {
   "cell_type": "code",
   "execution_count": 2,
   "metadata": {},
   "outputs": [
    {
     "data": {
      "text/plain": [
       "<rethinkdb.net.DefaultConnection at 0x7f3534034390>"
      ]
     },
     "execution_count": 2,
     "metadata": {},
     "output_type": "execute_result"
    }
   ],
   "source": [
    "# The server opens a port 28015 by default.\n",
    "# Let’s open a connection:\n",
    "\n",
    "r.connect(\"localhost\", 28015).repl()\n",
    "\n",
    "# The repl command is a convenience method that\n",
    "# sets a default connection in your shell\n",
    "# so you don’t have to pass it to\n",
    "# the run command to run your queries.\n",
    "\n",
    "# https://github.com/rethinkdb/rethinkdb-example-flask-backbone-todo"
   ]
  },
  {
   "cell_type": "markdown",
   "metadata": {},
   "source": [
    "## Create a new table"
   ]
  },
  {
   "cell_type": "code",
   "execution_count": 3,
   "metadata": {
    "scrolled": true
   },
   "outputs": [
    {
     "data": {
      "text/plain": [
       "{'config_changes': [{'new_val': {'db': 'test',\n",
       "    'durability': 'hard',\n",
       "    'id': '942681b8-dfe8-4a3e-a1df-7252f4b498fd',\n",
       "    'indexes': [],\n",
       "    'name': 'authors',\n",
       "    'primary_key': 'id',\n",
       "    'shards': [{'nonvoting_replicas': [],\n",
       "      'primary_replica': 'bb102no5_VirtualBox_urs',\n",
       "      'replicas': ['bb102no5_VirtualBox_urs']}],\n",
       "    'write_acks': 'majority'},\n",
       "   'old_val': None}],\n",
       " 'tables_created': 1}"
      ]
     },
     "execution_count": 3,
     "metadata": {},
     "output_type": "execute_result"
    }
   ],
   "source": [
    "r.db(\"test\").table_drop(\"authors\").run()\n",
    "r.db(\"test\").table_create(\"authors\").run()"
   ]
  },
  {
   "cell_type": "markdown",
   "metadata": {},
   "source": [
    "## Insert data"
   ]
  },
  {
   "cell_type": "code",
   "execution_count": 4,
   "metadata": {},
   "outputs": [
    {
     "data": {
      "text/plain": [
       "{'deleted': 0,\n",
       " 'errors': 0,\n",
       " 'generated_keys': ['8b1b4415-f109-46b3-adfe-b76c8c71363d',\n",
       "  '7a85a289-393a-44f2-b5c8-3aee00c43658',\n",
       "  '97e4373a-dfda-46d5-8e36-3836dc5c1b38'],\n",
       " 'inserted': 3,\n",
       " 'replaced': 0,\n",
       " 'skipped': 0,\n",
       " 'unchanged': 0}"
      ]
     },
     "execution_count": 4,
     "metadata": {},
     "output_type": "execute_result"
    }
   ],
   "source": [
    "r.table(\"authors\").insert([\n",
    "    { \"name\": \"William Adama\", \"tv_show\": \"Battlestar Galactica\",\n",
    "      \"posts\": [\n",
    "        {\"title\": \"Decommissioning speech\", \"content\": \"The Cylon War is long over...\"},\n",
    "        {\"title\": \"We are at war\", \"content\": \"Moments ago, this ship received...\"},\n",
    "        {\"title\": \"The new Earth\", \"content\": \"The discoveries of the past few days...\"}\n",
    "      ]\n",
    "    },\n",
    "    { \"name\": \"Laura Roslin\", \"tv_show\": \"Battlestar Galactica\",\n",
    "      \"posts\": [\n",
    "        {\"title\": \"The oath of office\", \"content\": \"I, Laura Roslin, ...\"},\n",
    "        {\"title\": \"They look like us\", \"content\": \"The Cylons have the ability...\"}\n",
    "      ]\n",
    "    },\n",
    "    { \"name\": \"Jean-Luc Picard\", \"tv_show\": \"Star Trek TNG\",\n",
    "      \"posts\": [\n",
    "        {\"title\": \"Civil rights\", \"content\": \"There are some words I've known since...\"}\n",
    "      ]\n",
    "    }\n",
    "]).run()"
   ]
  },
  {
   "cell_type": "markdown",
   "metadata": {},
   "source": [
    "## Retrieve documents"
   ]
  },
  {
   "cell_type": "code",
   "execution_count": 5,
   "metadata": {
    "scrolled": true
   },
   "outputs": [
    {
     "name": "stdout",
     "output_type": "stream",
     "text": [
      "{'id': '8b1b4415-f109-46b3-adfe-b76c8c71363d', 'name': 'William Adama', 'posts': [{'content': 'The Cylon War is long over...', 'title': 'Decommissioning speech'}, {'content': 'Moments ago, this ship received...', 'title': 'We are at war'}, {'content': 'The discoveries of the past few days...', 'title': 'The new Earth'}], 'tv_show': 'Battlestar Galactica'}\n",
      "{'id': '7a85a289-393a-44f2-b5c8-3aee00c43658', 'name': 'Laura Roslin', 'posts': [{'content': 'I, Laura Roslin, ...', 'title': 'The oath of office'}, {'content': 'The Cylons have the ability...', 'title': 'They look like us'}], 'tv_show': 'Battlestar Galactica'}\n",
      "{'id': '97e4373a-dfda-46d5-8e36-3836dc5c1b38', 'name': 'Jean-Luc Picard', 'posts': [{'content': \"There are some words I've known since...\", 'title': 'Civil rights'}], 'tv_show': 'Star Trek TNG'}\n"
     ]
    }
   ],
   "source": [
    "cursor = r.table(\"authors\").run()\n",
    "for document in cursor:\n",
    "    print(document)"
   ]
  },
  {
   "cell_type": "code",
   "execution_count": 6,
   "metadata": {},
   "outputs": [
    {
     "name": "stdout",
     "output_type": "stream",
     "text": [
      "{'id': '8b1b4415-f109-46b3-adfe-b76c8c71363d', 'name': 'William Adama', 'posts': [{'content': 'The Cylon War is long over...', 'title': 'Decommissioning speech'}, {'content': 'Moments ago, this ship received...', 'title': 'We are at war'}, {'content': 'The discoveries of the past few days...', 'title': 'The new Earth'}], 'tv_show': 'Battlestar Galactica'}\n"
     ]
    }
   ],
   "source": [
    "cursor = r.table(\"authors\").filter(r.row[\"name\"] == \"William Adama\").run()\n",
    "for document in cursor:\n",
    "    print(document)"
   ]
  },
  {
   "cell_type": "code",
   "execution_count": 7,
   "metadata": {},
   "outputs": [
    {
     "name": "stdout",
     "output_type": "stream",
     "text": [
      "{'id': '8b1b4415-f109-46b3-adfe-b76c8c71363d', 'name': 'William Adama', 'posts': [{'content': 'The Cylon War is long over...', 'title': 'Decommissioning speech'}, {'content': 'Moments ago, this ship received...', 'title': 'We are at war'}, {'content': 'The discoveries of the past few days...', 'title': 'The new Earth'}], 'tv_show': 'Battlestar Galactica'}\n"
     ]
    }
   ],
   "source": [
    "cursor = r.table(\"authors\").filter(r.row[\"posts\"].count() > 2).run()\n",
    "for document in cursor:\n",
    "    print(document)"
   ]
  },
  {
   "cell_type": "code",
   "execution_count": 8,
   "metadata": {
    "scrolled": true
   },
   "outputs": [],
   "source": [
    "r.db('test').table('authors').get('7df94d23-9c03-4240-87c7-c0890337eb16').run()"
   ]
  },
  {
   "cell_type": "markdown",
   "metadata": {},
   "source": [
    "## Realtime feeds"
   ]
  },
  {
   "cell_type": "code",
   "execution_count": null,
   "metadata": {
    "collapsed": true
   },
   "outputs": [],
   "source": [
    "cursor = r.table(\"authors\").changes().run()\n",
    "for document in cursor:\n",
    "    print(document)"
   ]
  },
  {
   "cell_type": "markdown",
   "metadata": {},
   "source": [
    "## Update documents"
   ]
  },
  {
   "cell_type": "code",
   "execution_count": null,
   "metadata": {
    "collapsed": true
   },
   "outputs": [],
   "source": [
    "r.table(\"authors\").update({\"type\": \"fictional\"}).run()"
   ]
  },
  {
   "cell_type": "code",
   "execution_count": null,
   "metadata": {
    "collapsed": true
   },
   "outputs": [],
   "source": []
  },
  {
   "cell_type": "code",
   "execution_count": null,
   "metadata": {
    "collapsed": true
   },
   "outputs": [],
   "source": []
  }
 ],
 "metadata": {
  "kernelspec": {
   "display_name": "Python 3",
   "language": "python",
   "name": "python3"
  },
  "language_info": {
   "codemirror_mode": {
    "name": "ipython",
    "version": 3
   },
   "file_extension": ".py",
   "mimetype": "text/x-python",
   "name": "python",
   "nbconvert_exporter": "python",
   "pygments_lexer": "ipython3",
   "version": "3.6.1"
  }
 },
 "nbformat": 4,
 "nbformat_minor": 2
}
